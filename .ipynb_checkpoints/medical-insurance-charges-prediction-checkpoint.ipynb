{
 "cells": [
  {
   "cell_type": "markdown",
   "metadata": {},
   "source": [
    "## EDA & Data Visualization"
   ]
  },
  {
   "cell_type": "markdown",
   "metadata": {},
   "source": [
    "Problem Statement:  We are tasked with creating an automated system to estimate the annual medical charges for new customers, using information such as their age, sex, BMI, children, smoking habits and region of residence. Estimates from the system will be used to determine the annual insurance premium offered to the customer."
   ]
  },
  {
   "cell_type": "code",
   "execution_count": null,
   "metadata": {
    "execution": {
     "iopub.execute_input": "2023-04-01T08:02:23.657518Z",
     "iopub.status.busy": "2023-04-01T08:02:23.657154Z",
     "iopub.status.idle": "2023-04-01T08:02:24.846685Z",
     "shell.execute_reply": "2023-04-01T08:02:24.845277Z",
     "shell.execute_reply.started": "2023-04-01T08:02:23.657483Z"
    }
   },
   "outputs": [],
   "source": [
    "import pandas as pd\n",
    "import matplotlib.pyplot as plt\n",
    "%matplotlib inline\n",
    "import seaborn as sns\n",
    "import plotly.express as px\n",
    "import warnings\n",
    "warnings.filterwarnings('ignore')"
   ]
  },
  {
   "cell_type": "code",
   "execution_count": null,
   "metadata": {
    "execution": {
     "iopub.execute_input": "2023-04-01T08:02:24.849107Z",
     "iopub.status.busy": "2023-04-01T08:02:24.848482Z",
     "iopub.status.idle": "2023-04-01T08:02:24.873582Z",
     "shell.execute_reply": "2023-04-01T08:02:24.872117Z",
     "shell.execute_reply.started": "2023-04-01T08:02:24.849073Z"
    }
   },
   "outputs": [],
   "source": [
    "df = pd.read_csv('/kaggle/input/insurance/insurance.csv')\n",
    "df.head(10)"
   ]
  },
  {
   "cell_type": "code",
   "execution_count": null,
   "metadata": {
    "execution": {
     "iopub.execute_input": "2023-04-01T08:02:24.875468Z",
     "iopub.status.busy": "2023-04-01T08:02:24.875114Z",
     "iopub.status.idle": "2023-04-01T08:02:24.898422Z",
     "shell.execute_reply": "2023-04-01T08:02:24.896848Z",
     "shell.execute_reply.started": "2023-04-01T08:02:24.875439Z"
    }
   },
   "outputs": [],
   "source": [
    "df.info()"
   ]
  },
  {
   "cell_type": "code",
   "execution_count": null,
   "metadata": {
    "execution": {
     "iopub.execute_input": "2023-04-01T08:02:24.90153Z",
     "iopub.status.busy": "2023-04-01T08:02:24.90119Z",
     "iopub.status.idle": "2023-04-01T08:02:24.91547Z",
     "shell.execute_reply": "2023-04-01T08:02:24.914271Z",
     "shell.execute_reply.started": "2023-04-01T08:02:24.9015Z"
    }
   },
   "outputs": [],
   "source": [
    "df.isna().sum()"
   ]
  },
  {
   "cell_type": "markdown",
   "metadata": {},
   "source": [
    "As we can see there are no null values. However, let's check for duplicates."
   ]
  },
  {
   "cell_type": "code",
   "execution_count": null,
   "metadata": {
    "execution": {
     "iopub.execute_input": "2023-04-01T08:02:24.917908Z",
     "iopub.status.busy": "2023-04-01T08:02:24.917387Z",
     "iopub.status.idle": "2023-04-01T08:02:24.93306Z",
     "shell.execute_reply": "2023-04-01T08:02:24.931639Z",
     "shell.execute_reply.started": "2023-04-01T08:02:24.917862Z"
    }
   },
   "outputs": [],
   "source": [
    "df.duplicated().sum()"
   ]
  },
  {
   "cell_type": "code",
   "execution_count": null,
   "metadata": {
    "execution": {
     "iopub.execute_input": "2023-04-01T08:02:24.934845Z",
     "iopub.status.busy": "2023-04-01T08:02:24.93446Z",
     "iopub.status.idle": "2023-04-01T08:02:24.951853Z",
     "shell.execute_reply": "2023-04-01T08:02:24.95071Z",
     "shell.execute_reply.started": "2023-04-01T08:02:24.934806Z"
    }
   },
   "outputs": [],
   "source": [
    "df[df.duplicated(keep=False)]"
   ]
  },
  {
   "cell_type": "code",
   "execution_count": null,
   "metadata": {
    "execution": {
     "iopub.execute_input": "2023-04-01T08:02:24.954384Z",
     "iopub.status.busy": "2023-04-01T08:02:24.953342Z",
     "iopub.status.idle": "2023-04-01T08:02:24.967068Z",
     "shell.execute_reply": "2023-04-01T08:02:24.965384Z",
     "shell.execute_reply.started": "2023-04-01T08:02:24.954316Z"
    }
   },
   "outputs": [],
   "source": [
    "df = df.drop_duplicates()\n",
    "df.duplicated().sum()"
   ]
  },
  {
   "cell_type": "markdown",
   "metadata": {},
   "source": [
    "We found a single duplicate which is dropped now."
   ]
  },
  {
   "cell_type": "code",
   "execution_count": null,
   "metadata": {
    "execution": {
     "iopub.execute_input": "2023-04-01T08:02:24.969516Z",
     "iopub.status.busy": "2023-04-01T08:02:24.96912Z",
     "iopub.status.idle": "2023-04-01T08:02:24.998051Z",
     "shell.execute_reply": "2023-04-01T08:02:24.997074Z",
     "shell.execute_reply.started": "2023-04-01T08:02:24.969485Z"
    }
   },
   "outputs": [],
   "source": [
    "df.describe().T"
   ]
  },
  {
   "cell_type": "markdown",
   "metadata": {},
   "source": [
    "Now let us distinguish the Body Mass Indexes into the following categories:"
   ]
  },
  {
   "cell_type": "code",
   "execution_count": null,
   "metadata": {
    "execution": {
     "iopub.execute_input": "2023-04-01T08:02:24.999587Z",
     "iopub.status.busy": "2023-04-01T08:02:24.999264Z",
     "iopub.status.idle": "2023-04-01T08:02:25.020137Z",
     "shell.execute_reply": "2023-04-01T08:02:25.018186Z",
     "shell.execute_reply.started": "2023-04-01T08:02:24.99956Z"
    }
   },
   "outputs": [],
   "source": [
    "def bmi_to_cat(bmi: float) -> str:\n",
    "    if bmi < 18.5: return 'Underweight'\n",
    "    elif 18.5 <= bmi < 25: return 'Normal Weight'\n",
    "    elif 25 <= bmi < 30: return 'Overweight'\n",
    "    elif 30 <= bmi < 35: return 'Obese'\n",
    "    elif 35 <= bmi < 40: return 'Severely Obese'\n",
    "    elif 40 <= bmi: return 'Morbidly Obese'\n",
    "    \n",
    "df.insert(3, 'bmi_cat', df['bmi'].apply(bmi_to_cat))\n",
    "df.head()"
   ]
  },
  {
   "cell_type": "code",
   "execution_count": null,
   "metadata": {
    "execution": {
     "iopub.execute_input": "2023-04-01T08:02:25.022015Z",
     "iopub.status.busy": "2023-04-01T08:02:25.021602Z",
     "iopub.status.idle": "2023-04-01T08:02:26.67397Z",
     "shell.execute_reply": "2023-04-01T08:02:26.672865Z",
     "shell.execute_reply.started": "2023-04-01T08:02:25.021977Z"
    }
   },
   "outputs": [],
   "source": [
    "fig = px.scatter(df, x=\"bmi\", y=\"age\", color=\"bmi_cat\")\n",
    "fig.show()"
   ]
  },
  {
   "cell_type": "markdown",
   "metadata": {},
   "source": [
    "Let's dive deep into visualizing different categorical variables with respect to charges."
   ]
  },
  {
   "cell_type": "code",
   "execution_count": null,
   "metadata": {
    "execution": {
     "iopub.execute_input": "2023-04-01T08:02:26.676041Z",
     "iopub.status.busy": "2023-04-01T08:02:26.675057Z",
     "iopub.status.idle": "2023-04-01T08:02:26.723273Z",
     "shell.execute_reply": "2023-04-01T08:02:26.721681Z",
     "shell.execute_reply.started": "2023-04-01T08:02:26.676003Z"
    }
   },
   "outputs": [],
   "source": [
    "pd.crosstab(df.sex, df.smoker, margins = True)"
   ]
  },
  {
   "cell_type": "code",
   "execution_count": null,
   "metadata": {
    "execution": {
     "iopub.execute_input": "2023-04-01T08:02:26.725098Z",
     "iopub.status.busy": "2023-04-01T08:02:26.724792Z",
     "iopub.status.idle": "2023-04-01T08:02:26.824249Z",
     "shell.execute_reply": "2023-04-01T08:02:26.823107Z",
     "shell.execute_reply.started": "2023-04-01T08:02:26.72507Z"
    }
   },
   "outputs": [],
   "source": [
    "fig = px.box(df, x=\"sex\", y=\"charges\", color=\"smoker\")\n",
    "fig.show()"
   ]
  },
  {
   "cell_type": "markdown",
   "metadata": {},
   "source": [
    "Observations:\n",
    "For most customers, the annual medical charges are about 10,000 dollars. But there are few outliers who have higher medical expenses, possibly due to some other reasons.\n",
    "However, there is a significant difference in medical expenses between smokers and non-smokers. While the median for non-smokers is 7300 dollars, the median for smokers is close to 32,000 dollars."
   ]
  },
  {
   "cell_type": "code",
   "execution_count": null,
   "metadata": {
    "execution": {
     "iopub.execute_input": "2023-04-01T08:02:26.829023Z",
     "iopub.status.busy": "2023-04-01T08:02:26.828719Z",
     "iopub.status.idle": "2023-04-01T08:02:26.872998Z",
     "shell.execute_reply": "2023-04-01T08:02:26.871928Z",
     "shell.execute_reply.started": "2023-04-01T08:02:26.828995Z"
    }
   },
   "outputs": [],
   "source": [
    "pd.crosstab([df.sex, df.smoker], df.bmi_cat, margins = True)"
   ]
  },
  {
   "cell_type": "code",
   "execution_count": null,
   "metadata": {
    "execution": {
     "iopub.execute_input": "2023-04-01T08:02:26.87448Z",
     "iopub.status.busy": "2023-04-01T08:02:26.874096Z",
     "iopub.status.idle": "2023-04-01T08:02:27.014622Z",
     "shell.execute_reply": "2023-04-01T08:02:27.013152Z",
     "shell.execute_reply.started": "2023-04-01T08:02:26.874449Z"
    }
   },
   "outputs": [],
   "source": [
    "fig = px.histogram(df, x='bmi_cat', color='sex', barmode='group', facet_col='smoker')\n",
    "fig.show()"
   ]
  },
  {
   "cell_type": "code",
   "execution_count": null,
   "metadata": {
    "execution": {
     "iopub.execute_input": "2023-04-01T08:02:27.016141Z",
     "iopub.status.busy": "2023-04-01T08:02:27.015847Z",
     "iopub.status.idle": "2023-04-01T08:02:27.034876Z",
     "shell.execute_reply": "2023-04-01T08:02:27.03406Z",
     "shell.execute_reply.started": "2023-04-01T08:02:27.016112Z"
    }
   },
   "outputs": [],
   "source": [
    "a = df.groupby(['sex','smoker','bmi_cat'])['charges'].mean().reset_index()\n",
    "a.head(24)"
   ]
  },
  {
   "cell_type": "code",
   "execution_count": null,
   "metadata": {
    "execution": {
     "iopub.execute_input": "2023-04-01T08:02:27.036099Z",
     "iopub.status.busy": "2023-04-01T08:02:27.035816Z",
     "iopub.status.idle": "2023-04-01T08:02:27.124982Z",
     "shell.execute_reply": "2023-04-01T08:02:27.124028Z",
     "shell.execute_reply.started": "2023-04-01T08:02:27.036071Z"
    }
   },
   "outputs": [],
   "source": [
    "fig = px.bar(a, x=\"sex\", y=\"charges\", color=\"bmi_cat\", barmode='group')\n",
    "fig.show()"
   ]
  },
  {
   "cell_type": "markdown",
   "metadata": {},
   "source": [
    "Here we can observe that the average charges for non-smoking males & females of different bmi categories, is almost 10,000 dollars. Both genders who happen to be smokers as well as any form of obese, have average charges as high as 50,000 dollars. "
   ]
  },
  {
   "cell_type": "code",
   "execution_count": null,
   "metadata": {
    "execution": {
     "iopub.execute_input": "2023-04-01T08:02:27.126394Z",
     "iopub.status.busy": "2023-04-01T08:02:27.126092Z",
     "iopub.status.idle": "2023-04-01T08:02:27.172076Z",
     "shell.execute_reply": "2023-04-01T08:02:27.170611Z",
     "shell.execute_reply.started": "2023-04-01T08:02:27.126349Z"
    }
   },
   "outputs": [],
   "source": [
    "pd.crosstab(df.region, df.bmi_cat, margins = True)"
   ]
  },
  {
   "cell_type": "code",
   "execution_count": null,
   "metadata": {
    "execution": {
     "iopub.execute_input": "2023-04-01T08:02:27.173867Z",
     "iopub.status.busy": "2023-04-01T08:02:27.173551Z",
     "iopub.status.idle": "2023-04-01T08:02:27.259613Z",
     "shell.execute_reply": "2023-04-01T08:02:27.258522Z",
     "shell.execute_reply.started": "2023-04-01T08:02:27.173833Z"
    }
   },
   "outputs": [],
   "source": [
    "fig = px.strip(df, x=\"region\", y=\"charges\", color=\"bmi_cat\")\n",
    "fig.show()"
   ]
  },
  {
   "cell_type": "code",
   "execution_count": null,
   "metadata": {
    "execution": {
     "iopub.execute_input": "2023-04-01T08:02:27.261019Z",
     "iopub.status.busy": "2023-04-01T08:02:27.260734Z",
     "iopub.status.idle": "2023-04-01T08:02:27.294517Z",
     "shell.execute_reply": "2023-04-01T08:02:27.293517Z",
     "shell.execute_reply.started": "2023-04-01T08:02:27.260993Z"
    }
   },
   "outputs": [],
   "source": [
    "pd.crosstab(df.region, df.smoker, margins = True)"
   ]
  },
  {
   "cell_type": "code",
   "execution_count": null,
   "metadata": {
    "execution": {
     "iopub.execute_input": "2023-04-01T08:02:27.295993Z",
     "iopub.status.busy": "2023-04-01T08:02:27.295717Z",
     "iopub.status.idle": "2023-04-01T08:02:27.356094Z",
     "shell.execute_reply": "2023-04-01T08:02:27.355044Z",
     "shell.execute_reply.started": "2023-04-01T08:02:27.295968Z"
    }
   },
   "outputs": [],
   "source": [
    "fig = px.strip(df, x=\"region\", y=\"charges\", color=\"smoker\")\n",
    "fig.show()"
   ]
  },
  {
   "cell_type": "markdown",
   "metadata": {},
   "source": [
    "We see that the southeaster part of U.S is leading in charges but majority of all customers from all parts of US are charged between 0-20k only."
   ]
  },
  {
   "cell_type": "code",
   "execution_count": null,
   "metadata": {
    "execution": {
     "iopub.execute_input": "2023-04-01T08:02:27.357492Z",
     "iopub.status.busy": "2023-04-01T08:02:27.357171Z",
     "iopub.status.idle": "2023-04-01T08:02:27.413948Z",
     "shell.execute_reply": "2023-04-01T08:02:27.413055Z",
     "shell.execute_reply.started": "2023-04-01T08:02:27.357464Z"
    }
   },
   "outputs": [],
   "source": [
    "fig = px.scatter(df, x=\"age\", y=\"charges\", color=\"smoker\")\n",
    "fig.show()"
   ]
  },
  {
   "cell_type": "markdown",
   "metadata": {},
   "source": [
    "Observations:\n",
    "\n",
    "1. Medical charges increase with age, which is a quite natural trend.\n",
    "\n",
    "2. We can see three clusters of points, each of which seems to form a line with an increasing slope:\n",
    "\n",
    "i. The first cluster consists of non-smokers who have relatively low medical charges compared to others.\n",
    "\n",
    "ii. The second cluster contains a mix of smokers and non-smokers. It's possible that these are actually two distinct but overlapping clusters: \"non-smokers with other medical issues\" and \"smokers without major medical issues\".\n",
    "\n",
    "iii. The final cluster consists of smokers with major medical issues that are possibly related to or worsened by smoking."
   ]
  },
  {
   "cell_type": "code",
   "execution_count": null,
   "metadata": {
    "execution": {
     "iopub.execute_input": "2023-04-01T08:02:27.415589Z",
     "iopub.status.busy": "2023-04-01T08:02:27.41527Z",
     "iopub.status.idle": "2023-04-01T08:02:27.470196Z",
     "shell.execute_reply": "2023-04-01T08:02:27.469151Z",
     "shell.execute_reply.started": "2023-04-01T08:02:27.415561Z"
    }
   },
   "outputs": [],
   "source": [
    "fig = px.scatter(df, x='bmi', y='charges', color='smoker')\n",
    "fig.show()"
   ]
  },
  {
   "cell_type": "markdown",
   "metadata": {},
   "source": [
    "It appears that for non-smokers, an increase in BMI doesn't seem to be related to an increase in medical charges. However, medical charges seem to be significantly higher for smokers with a BMI greater than 30."
   ]
  },
  {
   "cell_type": "code",
   "execution_count": null,
   "metadata": {
    "execution": {
     "iopub.execute_input": "2023-04-01T08:02:27.472171Z",
     "iopub.status.busy": "2023-04-01T08:02:27.471824Z",
     "iopub.status.idle": "2023-04-01T08:02:27.550557Z",
     "shell.execute_reply": "2023-04-01T08:02:27.549164Z",
     "shell.execute_reply.started": "2023-04-01T08:02:27.472135Z"
    }
   },
   "outputs": [],
   "source": [
    "fig = px.ecdf(df, x=\"charges\", color=\"smoker\")\n",
    "fig.show()"
   ]
  },
  {
   "cell_type": "markdown",
   "metadata": {},
   "source": [
    "Observation:\n",
    "Almost 67% of non-smokers have medical charges of 10,000 dollars or less. Whereas, for smokers, the charges start only from nearly 13,000 dollars, and almost 55% of smokers have medical charges more than 30,000 dollars. "
   ]
  },
  {
   "cell_type": "code",
   "execution_count": null,
   "metadata": {
    "execution": {
     "iopub.execute_input": "2023-04-01T08:02:27.553142Z",
     "iopub.status.busy": "2023-04-01T08:02:27.552607Z",
     "iopub.status.idle": "2023-04-01T08:02:27.611068Z",
     "shell.execute_reply": "2023-04-01T08:02:27.610101Z",
     "shell.execute_reply.started": "2023-04-01T08:02:27.553105Z"
    }
   },
   "outputs": [],
   "source": [
    "fig = px.ecdf(df, x=\"charges\", color=\"sex\")\n",
    "fig.show()"
   ]
  },
  {
   "cell_type": "markdown",
   "metadata": {},
   "source": [
    "It can be seen that almost 61% of both males & females have medical charges of equal to or less than 12,000 dollars. However, after that point, the percentage of females seem to increase by a bit."
   ]
  },
  {
   "cell_type": "code",
   "execution_count": null,
   "metadata": {
    "execution": {
     "iopub.execute_input": "2023-04-01T08:02:27.612948Z",
     "iopub.status.busy": "2023-04-01T08:02:27.612235Z",
     "iopub.status.idle": "2023-04-01T08:02:27.72905Z",
     "shell.execute_reply": "2023-04-01T08:02:27.728313Z",
     "shell.execute_reply.started": "2023-04-01T08:02:27.612912Z"
    }
   },
   "outputs": [],
   "source": [
    "fig = px.scatter_3d(df, x='age', y='bmi', z='charges', color='smoker')\n",
    "fig.update_traces(marker_size=5, marker_opacity=0.5)\n",
    "fig.show()"
   ]
  },
  {
   "cell_type": "markdown",
   "metadata": {},
   "source": [
    "We can see that it's harder to interpret a 3D scatter plot compared to a 2D scatter plot. As we add more features, it becomes impossible to visualize all feature at once, which is why we use measures like correlation and loss (rmse)."
   ]
  },
  {
   "cell_type": "markdown",
   "metadata": {},
   "source": [
    "## Getting Dummy Variables "
   ]
  },
  {
   "cell_type": "code",
   "execution_count": null,
   "metadata": {
    "execution": {
     "iopub.execute_input": "2023-04-01T08:02:27.730746Z",
     "iopub.status.busy": "2023-04-01T08:02:27.730042Z",
     "iopub.status.idle": "2023-04-01T08:02:27.736131Z",
     "shell.execute_reply": "2023-04-01T08:02:27.735391Z",
     "shell.execute_reply.started": "2023-04-01T08:02:27.730713Z"
    }
   },
   "outputs": [],
   "source": [
    "df.drop(['bmi_cat'],axis=1,inplace=True)"
   ]
  },
  {
   "cell_type": "code",
   "execution_count": null,
   "metadata": {
    "execution": {
     "iopub.execute_input": "2023-04-01T08:02:27.738089Z",
     "iopub.status.busy": "2023-04-01T08:02:27.737138Z",
     "iopub.status.idle": "2023-04-01T08:02:27.765255Z",
     "shell.execute_reply": "2023-04-01T08:02:27.764545Z",
     "shell.execute_reply.started": "2023-04-01T08:02:27.738059Z"
    }
   },
   "outputs": [],
   "source": [
    "columns_cat = ['sex','smoker','region']\n",
    "df_encoded = pd.get_dummies(df, columns=columns_cat)\n",
    "df_encoded"
   ]
  },
  {
   "cell_type": "markdown",
   "metadata": {},
   "source": [
    "## Correlation Matrix"
   ]
  },
  {
   "cell_type": "code",
   "execution_count": null,
   "metadata": {
    "execution": {
     "iopub.execute_input": "2023-04-01T08:02:27.766902Z",
     "iopub.status.busy": "2023-04-01T08:02:27.766221Z",
     "iopub.status.idle": "2023-04-01T08:02:28.542415Z",
     "shell.execute_reply": "2023-04-01T08:02:28.541479Z",
     "shell.execute_reply.started": "2023-04-01T08:02:27.766872Z"
    }
   },
   "outputs": [],
   "source": [
    "plt.figure(figsize=(20,10))\n",
    "sns.heatmap(df_encoded.corr(), annot=True)\n",
    "plt.show()"
   ]
  },
  {
   "cell_type": "markdown",
   "metadata": {},
   "source": [
    "We see that smoker_yes is highly correlated with charges.\n",
    "Also, age and bmi have positive correlation with charges."
   ]
  },
  {
   "cell_type": "markdown",
   "metadata": {},
   "source": [
    "## Simple Linear Regression"
   ]
  },
  {
   "cell_type": "code",
   "execution_count": null,
   "metadata": {
    "execution": {
     "iopub.execute_input": "2023-04-01T08:02:28.544272Z",
     "iopub.status.busy": "2023-04-01T08:02:28.543549Z",
     "iopub.status.idle": "2023-04-01T08:02:28.756884Z",
     "shell.execute_reply": "2023-04-01T08:02:28.755806Z",
     "shell.execute_reply.started": "2023-04-01T08:02:28.544237Z"
    }
   },
   "outputs": [],
   "source": [
    "from sklearn.linear_model import LinearRegression\n",
    "slr = LinearRegression()"
   ]
  },
  {
   "cell_type": "code",
   "execution_count": null,
   "metadata": {
    "execution": {
     "iopub.execute_input": "2023-04-01T08:02:28.75841Z",
     "iopub.status.busy": "2023-04-01T08:02:28.758109Z",
     "iopub.status.idle": "2023-04-01T08:02:28.766876Z",
     "shell.execute_reply": "2023-04-01T08:02:28.765959Z",
     "shell.execute_reply.started": "2023-04-01T08:02:28.758375Z"
    }
   },
   "outputs": [],
   "source": [
    "x = df['age']\n",
    "y = df['charges']\n",
    "\n",
    "from sklearn.model_selection import train_test_split\n",
    "x_train,x_test,y_train,y_test = train_test_split(x,y,test_size=0.3,random_state=100)"
   ]
  },
  {
   "cell_type": "code",
   "execution_count": null,
   "metadata": {
    "execution": {
     "iopub.execute_input": "2023-04-01T08:02:28.7689Z",
     "iopub.status.busy": "2023-04-01T08:02:28.768343Z",
     "iopub.status.idle": "2023-04-01T08:02:28.78707Z",
     "shell.execute_reply": "2023-04-01T08:02:28.786081Z",
     "shell.execute_reply.started": "2023-04-01T08:02:28.768873Z"
    }
   },
   "outputs": [],
   "source": [
    "slr.fit(x_train.values.reshape(-1,1), y_train)"
   ]
  },
  {
   "cell_type": "code",
   "execution_count": null,
   "metadata": {
    "execution": {
     "iopub.execute_input": "2023-04-01T08:02:28.788731Z",
     "iopub.status.busy": "2023-04-01T08:02:28.788453Z",
     "iopub.status.idle": "2023-04-01T08:02:28.794754Z",
     "shell.execute_reply": "2023-04-01T08:02:28.793566Z",
     "shell.execute_reply.started": "2023-04-01T08:02:28.788704Z"
    }
   },
   "outputs": [],
   "source": [
    "slr.coef_"
   ]
  },
  {
   "cell_type": "code",
   "execution_count": null,
   "metadata": {
    "execution": {
     "iopub.execute_input": "2023-04-01T08:02:28.796486Z",
     "iopub.status.busy": "2023-04-01T08:02:28.796182Z",
     "iopub.status.idle": "2023-04-01T08:02:28.808518Z",
     "shell.execute_reply": "2023-04-01T08:02:28.807494Z",
     "shell.execute_reply.started": "2023-04-01T08:02:28.79646Z"
    }
   },
   "outputs": [],
   "source": [
    "slr.intercept_"
   ]
  },
  {
   "cell_type": "code",
   "execution_count": null,
   "metadata": {
    "execution": {
     "iopub.execute_input": "2023-04-01T08:02:28.810197Z",
     "iopub.status.busy": "2023-04-01T08:02:28.809864Z",
     "iopub.status.idle": "2023-04-01T08:02:28.81689Z",
     "shell.execute_reply": "2023-04-01T08:02:28.815517Z",
     "shell.execute_reply.started": "2023-04-01T08:02:28.810162Z"
    }
   },
   "outputs": [],
   "source": [
    "slr_pred = slr.predict(x_test.values.reshape(-1,1))"
   ]
  },
  {
   "cell_type": "code",
   "execution_count": null,
   "metadata": {
    "execution": {
     "iopub.execute_input": "2023-04-01T08:02:28.818757Z",
     "iopub.status.busy": "2023-04-01T08:02:28.818465Z",
     "iopub.status.idle": "2023-04-01T08:02:28.886016Z",
     "shell.execute_reply": "2023-04-01T08:02:28.885031Z",
     "shell.execute_reply.started": "2023-04-01T08:02:28.81873Z"
    }
   },
   "outputs": [],
   "source": [
    "fig = px.scatter(x=y_test, y=slr_pred, labels={'x':'Actual','y':'Predicted'})\n",
    "fig.show()"
   ]
  },
  {
   "cell_type": "markdown",
   "metadata": {},
   "source": [
    "Majority of the predictions are not close to the actual charges. Hence we need to add more features to create a better model."
   ]
  },
  {
   "cell_type": "code",
   "execution_count": null,
   "metadata": {
    "execution": {
     "iopub.execute_input": "2023-04-01T08:02:28.887542Z",
     "iopub.status.busy": "2023-04-01T08:02:28.887124Z",
     "iopub.status.idle": "2023-04-01T08:02:28.896233Z",
     "shell.execute_reply": "2023-04-01T08:02:28.894837Z",
     "shell.execute_reply.started": "2023-04-01T08:02:28.887503Z"
    }
   },
   "outputs": [],
   "source": [
    "import numpy as np\n",
    "from sklearn.metrics import mean_squared_error, r2_score\n",
    "mse = mean_squared_error(y_test,slr_pred)\n",
    "rmse = np.sqrt(mean_squared_error(y_test,slr_pred))\n",
    "r2 = np.abs(r2_score(y_test,slr_pred))\n",
    "\n",
    "print('MSE:',mse)\n",
    "print('RMSE:',rmse)\n",
    "print('R square:',r2)"
   ]
  },
  {
   "cell_type": "markdown",
   "metadata": {},
   "source": [
    "Assumptions:\n",
    "1. Linearity Check"
   ]
  },
  {
   "cell_type": "code",
   "execution_count": null,
   "metadata": {
    "execution": {
     "iopub.execute_input": "2023-04-01T08:02:28.898396Z",
     "iopub.status.busy": "2023-04-01T08:02:28.89794Z",
     "iopub.status.idle": "2023-04-01T08:02:30.171843Z",
     "shell.execute_reply": "2023-04-01T08:02:30.170908Z",
     "shell.execute_reply.started": "2023-04-01T08:02:28.898336Z"
    }
   },
   "outputs": [],
   "source": [
    "px.scatter(df, x='age', y='charges', trendline='ols', trendline_color_override = 'red')"
   ]
  },
  {
   "cell_type": "markdown",
   "metadata": {},
   "source": [
    "2. Normality of Residuals"
   ]
  },
  {
   "cell_type": "code",
   "execution_count": null,
   "metadata": {
    "execution": {
     "iopub.execute_input": "2023-04-01T08:02:30.173893Z",
     "iopub.status.busy": "2023-04-01T08:02:30.17351Z",
     "iopub.status.idle": "2023-04-01T08:02:30.181632Z",
     "shell.execute_reply": "2023-04-01T08:02:30.178953Z",
     "shell.execute_reply.started": "2023-04-01T08:02:30.173851Z"
    }
   },
   "outputs": [],
   "source": [
    "residual = y_test - slr_pred"
   ]
  },
  {
   "cell_type": "code",
   "execution_count": null,
   "metadata": {
    "execution": {
     "iopub.execute_input": "2023-04-01T08:02:30.184555Z",
     "iopub.status.busy": "2023-04-01T08:02:30.18401Z",
     "iopub.status.idle": "2023-04-01T08:02:31.229665Z",
     "shell.execute_reply": "2023-04-01T08:02:31.228443Z",
     "shell.execute_reply.started": "2023-04-01T08:02:30.184513Z"
    }
   },
   "outputs": [],
   "source": [
    "import plotly.figure_factory as ff\n",
    "fig = ff.create_distplot(hist_data=[residual.tolist()], group_labels=['residual'], bin_size=[50])\n",
    "fig.show()"
   ]
  },
  {
   "cell_type": "markdown",
   "metadata": {},
   "source": [
    "3. Homoscedasticity"
   ]
  },
  {
   "cell_type": "code",
   "execution_count": null,
   "metadata": {
    "execution": {
     "iopub.execute_input": "2023-04-01T08:02:31.237982Z",
     "iopub.status.busy": "2023-04-01T08:02:31.237584Z",
     "iopub.status.idle": "2023-04-01T08:02:31.290971Z",
     "shell.execute_reply": "2023-04-01T08:02:31.289736Z",
     "shell.execute_reply.started": "2023-04-01T08:02:31.237945Z"
    }
   },
   "outputs": [],
   "source": [
    "fig = px.scatter(x=slr_pred, y=residual, labels={'x':'Predicted','y':'Residual'})\n",
    "fig.show()"
   ]
  },
  {
   "cell_type": "markdown",
   "metadata": {},
   "source": [
    "4. No Autocorrelation of Errors"
   ]
  },
  {
   "cell_type": "code",
   "execution_count": null,
   "metadata": {
    "execution": {
     "iopub.execute_input": "2023-04-01T08:02:31.293018Z",
     "iopub.status.busy": "2023-04-01T08:02:31.292601Z",
     "iopub.status.idle": "2023-04-01T08:02:31.365231Z",
     "shell.execute_reply": "2023-04-01T08:02:31.3632Z",
     "shell.execute_reply.started": "2023-04-01T08:02:31.292978Z"
    }
   },
   "outputs": [],
   "source": [
    "px.line(list(residual))"
   ]
  },
  {
   "cell_type": "markdown",
   "metadata": {},
   "source": [
    "## Multiple Linear Regression"
   ]
  },
  {
   "cell_type": "code",
   "execution_count": null,
   "metadata": {
    "execution": {
     "iopub.execute_input": "2023-04-01T08:02:31.367313Z",
     "iopub.status.busy": "2023-04-01T08:02:31.366944Z",
     "iopub.status.idle": "2023-04-01T08:02:31.376741Z",
     "shell.execute_reply": "2023-04-01T08:02:31.374894Z",
     "shell.execute_reply.started": "2023-04-01T08:02:31.367266Z"
    }
   },
   "outputs": [],
   "source": [
    "X=df_encoded.drop(['charges'], axis=1)\n",
    "Y=df_encoded['charges']"
   ]
  },
  {
   "cell_type": "code",
   "execution_count": null,
   "metadata": {
    "execution": {
     "iopub.execute_input": "2023-04-01T08:02:31.3791Z",
     "iopub.status.busy": "2023-04-01T08:02:31.378717Z",
     "iopub.status.idle": "2023-04-01T08:02:31.389135Z",
     "shell.execute_reply": "2023-04-01T08:02:31.388259Z",
     "shell.execute_reply.started": "2023-04-01T08:02:31.379067Z"
    }
   },
   "outputs": [],
   "source": [
    "x_train,x_test,y_train,y_test = train_test_split(X,Y,test_size=0.3,random_state=100)"
   ]
  },
  {
   "cell_type": "code",
   "execution_count": null,
   "metadata": {
    "execution": {
     "iopub.execute_input": "2023-04-01T08:02:31.391299Z",
     "iopub.status.busy": "2023-04-01T08:02:31.390953Z",
     "iopub.status.idle": "2023-04-01T08:02:31.413123Z",
     "shell.execute_reply": "2023-04-01T08:02:31.411811Z",
     "shell.execute_reply.started": "2023-04-01T08:02:31.391262Z"
    }
   },
   "outputs": [],
   "source": [
    "mlr = LinearRegression()\n",
    "mlr.fit(x_train,y_train)"
   ]
  },
  {
   "cell_type": "code",
   "execution_count": null,
   "metadata": {
    "execution": {
     "iopub.execute_input": "2023-04-01T08:02:31.414689Z",
     "iopub.status.busy": "2023-04-01T08:02:31.414381Z",
     "iopub.status.idle": "2023-04-01T08:02:31.425196Z",
     "shell.execute_reply": "2023-04-01T08:02:31.424223Z",
     "shell.execute_reply.started": "2023-04-01T08:02:31.414662Z"
    }
   },
   "outputs": [],
   "source": [
    "mlr_pred = mlr.predict(x_test)"
   ]
  },
  {
   "cell_type": "code",
   "execution_count": null,
   "metadata": {
    "execution": {
     "iopub.execute_input": "2023-04-01T08:02:31.42671Z",
     "iopub.status.busy": "2023-04-01T08:02:31.42634Z",
     "iopub.status.idle": "2023-04-01T08:02:31.489525Z",
     "shell.execute_reply": "2023-04-01T08:02:31.488518Z",
     "shell.execute_reply.started": "2023-04-01T08:02:31.426674Z"
    }
   },
   "outputs": [],
   "source": [
    "fig = px.scatter(x=y_test, y=mlr_pred, labels={'x':'Actual','y':'Predicted'})\n",
    "fig.show()"
   ]
  },
  {
   "cell_type": "code",
   "execution_count": null,
   "metadata": {
    "execution": {
     "iopub.execute_input": "2023-04-01T08:02:31.491334Z",
     "iopub.status.busy": "2023-04-01T08:02:31.490979Z",
     "iopub.status.idle": "2023-04-01T08:02:31.498959Z",
     "shell.execute_reply": "2023-04-01T08:02:31.498127Z",
     "shell.execute_reply.started": "2023-04-01T08:02:31.4913Z"
    }
   },
   "outputs": [],
   "source": [
    "mse = mean_squared_error(y_test,mlr_pred)\n",
    "rmse = np.sqrt(mean_squared_error(y_test,mlr_pred))\n",
    "r2 = np.abs(r2_score(y_test,mlr_pred))\n",
    "\n",
    "print('MSE:',mse)\n",
    "print('RMSE:',rmse)\n",
    "print('R square:',r2)"
   ]
  },
  {
   "cell_type": "code",
   "execution_count": null,
   "metadata": {
    "execution": {
     "iopub.execute_input": "2023-04-01T08:02:31.500858Z",
     "iopub.status.busy": "2023-04-01T08:02:31.500301Z",
     "iopub.status.idle": "2023-04-01T08:02:31.509872Z",
     "shell.execute_reply": "2023-04-01T08:02:31.508955Z",
     "shell.execute_reply.started": "2023-04-01T08:02:31.500819Z"
    }
   },
   "outputs": [],
   "source": [
    "mlr.coef_"
   ]
  },
  {
   "cell_type": "code",
   "execution_count": null,
   "metadata": {
    "execution": {
     "iopub.execute_input": "2023-04-01T08:02:31.511895Z",
     "iopub.status.busy": "2023-04-01T08:02:31.511195Z",
     "iopub.status.idle": "2023-04-01T08:02:31.522523Z",
     "shell.execute_reply": "2023-04-01T08:02:31.521238Z",
     "shell.execute_reply.started": "2023-04-01T08:02:31.511859Z"
    }
   },
   "outputs": [],
   "source": [
    "mlr.intercept_"
   ]
  },
  {
   "cell_type": "code",
   "execution_count": null,
   "metadata": {
    "execution": {
     "iopub.execute_input": "2023-04-01T08:02:31.524887Z",
     "iopub.status.busy": "2023-04-01T08:02:31.523912Z",
     "iopub.status.idle": "2023-04-01T08:02:31.537314Z",
     "shell.execute_reply": "2023-04-01T08:02:31.535793Z",
     "shell.execute_reply.started": "2023-04-01T08:02:31.52485Z"
    }
   },
   "outputs": [],
   "source": [
    "columns = ['age', 'bmi', 'children', 'smoker_yes', 'smoker_no','sex_male', 'sex_female', \n",
    "                 'region_northeast', 'region_northwest', 'region_southeast', 'region_southwest']\n",
    "\n",
    "weights_df_encoded = pd.DataFrame({'features': np.append(columns, 1),'weights': np.append(mlr.coef_ , mlr.intercept_)})\n",
    "weights_df_encoded"
   ]
  },
  {
   "cell_type": "markdown",
   "metadata": {},
   "source": [
    "While it seems like \"sex_female\" ,\"region_northeast\",\"bmi\" have a higher weight than age, keep in mind that the range of values for \"sex_female\" and \"region_northeast\" columns only take the values 0 and 1, while that of bmi ranges from 15 to 53.\n",
    "\n",
    "Because different columns have different ranges, we run into two issues:\n",
    "\n",
    "1. We can't compare the weights of different columns to identify which features are important.\n",
    "2. A column with a larger range of inputs may disproportionately affect the loss and dominate the optimization process.\n",
    "For this reason, it's common practice to scale (or standardize) the values in numerical columns.\n",
    "\n",
    "We can apply scaling using the StandardScaler class from scikit-learn."
   ]
  },
  {
   "cell_type": "code",
   "execution_count": null,
   "metadata": {
    "execution": {
     "iopub.execute_input": "2023-04-01T08:02:31.539484Z",
     "iopub.status.busy": "2023-04-01T08:02:31.538911Z",
     "iopub.status.idle": "2023-04-01T08:02:31.550323Z",
     "shell.execute_reply": "2023-04-01T08:02:31.549292Z",
     "shell.execute_reply.started": "2023-04-01T08:02:31.539442Z"
    }
   },
   "outputs": [],
   "source": [
    "from sklearn.preprocessing import StandardScaler\n",
    "numerical_columns = ['age', 'bmi', 'children'] \n",
    "scaler = StandardScaler()\n",
    "scaler.fit(df_encoded[numerical_columns])"
   ]
  },
  {
   "cell_type": "code",
   "execution_count": null,
   "metadata": {
    "execution": {
     "iopub.execute_input": "2023-04-01T08:02:31.552211Z",
     "iopub.status.busy": "2023-04-01T08:02:31.551403Z",
     "iopub.status.idle": "2023-04-01T08:02:31.563702Z",
     "shell.execute_reply": "2023-04-01T08:02:31.562665Z",
     "shell.execute_reply.started": "2023-04-01T08:02:31.552175Z"
    }
   },
   "outputs": [],
   "source": [
    "scaled_columns = scaler.transform(df_encoded[numerical_columns])\n",
    "categorical_columns = ['smoker_yes', 'smoker_no','sex_male', 'sex_female', \n",
    "              'region_northeast', 'region_northwest', 'region_southeast', 'region_southwest']\n",
    "categorical_data = df_encoded[categorical_columns].values"
   ]
  },
  {
   "cell_type": "code",
   "execution_count": null,
   "metadata": {
    "execution": {
     "iopub.execute_input": "2023-04-01T08:02:31.565207Z",
     "iopub.status.busy": "2023-04-01T08:02:31.564855Z",
     "iopub.status.idle": "2023-04-01T08:02:31.575601Z",
     "shell.execute_reply": "2023-04-01T08:02:31.574025Z",
     "shell.execute_reply.started": "2023-04-01T08:02:31.565175Z"
    }
   },
   "outputs": [],
   "source": [
    "x = np.concatenate((scaled_columns, categorical_data), axis=1)\n",
    "y = df_encoded.charges"
   ]
  },
  {
   "cell_type": "code",
   "execution_count": null,
   "metadata": {
    "execution": {
     "iopub.execute_input": "2023-04-01T08:02:31.577605Z",
     "iopub.status.busy": "2023-04-01T08:02:31.57725Z",
     "iopub.status.idle": "2023-04-01T08:02:31.587543Z",
     "shell.execute_reply": "2023-04-01T08:02:31.586618Z",
     "shell.execute_reply.started": "2023-04-01T08:02:31.577578Z"
    }
   },
   "outputs": [],
   "source": [
    "model = mlr.fit(x, y)\n",
    "predictions = model.predict(x)"
   ]
  },
  {
   "cell_type": "code",
   "execution_count": null,
   "metadata": {
    "execution": {
     "iopub.execute_input": "2023-04-01T08:02:31.589748Z",
     "iopub.status.busy": "2023-04-01T08:02:31.588828Z",
     "iopub.status.idle": "2023-04-01T08:02:31.599854Z",
     "shell.execute_reply": "2023-04-01T08:02:31.598941Z",
     "shell.execute_reply.started": "2023-04-01T08:02:31.589714Z"
    }
   },
   "outputs": [],
   "source": [
    "mse = mean_squared_error( y, predictions )\n",
    "rmse = np.sqrt(mean_squared_error( y, predictions ))\n",
    "r2 = np.abs(r2_score( y, predictions ))\n",
    "\n",
    "print('MSE:',mse)\n",
    "print('RMSE:',rmse)\n",
    "print('R square:',r2)"
   ]
  },
  {
   "cell_type": "code",
   "execution_count": null,
   "metadata": {
    "execution": {
     "iopub.execute_input": "2023-04-01T08:02:31.601455Z",
     "iopub.status.busy": "2023-04-01T08:02:31.601007Z",
     "iopub.status.idle": "2023-04-01T08:02:31.620588Z",
     "shell.execute_reply": "2023-04-01T08:02:31.61974Z",
     "shell.execute_reply.started": "2023-04-01T08:02:31.601421Z"
    }
   },
   "outputs": [],
   "source": [
    "weights_df_encoded = pd.DataFrame({'features': np.append(numerical_columns + categorical_columns, 1),\n",
    "                           'weights': np.append(mlr.coef_, mlr.intercept_)})\n",
    "weights_df_encoded.sort_values('weights', ascending=False)"
   ]
  },
  {
   "cell_type": "markdown",
   "metadata": {},
   "source": [
    "As we can see now, the most important features are:\n",
    "1. Smokers\n",
    "2. Age\n",
    "3. BMI"
   ]
  },
  {
   "cell_type": "markdown",
   "metadata": {},
   "source": [
    "We need to check the multicollinearity among the significant independent variables, using VIF."
   ]
  },
  {
   "cell_type": "code",
   "execution_count": null,
   "metadata": {
    "execution": {
     "iopub.execute_input": "2023-04-01T08:02:31.622285Z",
     "iopub.status.busy": "2023-04-01T08:02:31.621723Z",
     "iopub.status.idle": "2023-04-01T08:02:31.648219Z",
     "shell.execute_reply": "2023-04-01T08:02:31.647386Z",
     "shell.execute_reply.started": "2023-04-01T08:02:31.622248Z"
    }
   },
   "outputs": [],
   "source": [
    "from statsmodels.stats.outliers_influence import variance_inflation_factor\n",
    "\n",
    "X = df_encoded[['smoker_yes', 'age', 'bmi', 'region_northeast', 'children', 'sex_female']]\n",
    "\n",
    "vif_data = pd.DataFrame()\n",
    "vif_data[\"features\"] = X.columns\n",
    "\n",
    "vif_data[\"VIF\"] = [variance_inflation_factor(X.values, i)\n",
    "                   for i in range(len(X.columns))]\n",
    "\n",
    "print(vif_data)"
   ]
  },
  {
   "cell_type": "markdown",
   "metadata": {},
   "source": [
    "As we can see, age and bmi have very high values of VIF, indicating that these two variables are highly correlated. This is expected as the age of a person does influence their bmi. Hence, considering these two features together leads to a model with high multicollinearity."
   ]
  },
  {
   "cell_type": "code",
   "execution_count": null,
   "metadata": {
    "execution": {
     "iopub.execute_input": "2023-04-01T08:02:31.650045Z",
     "iopub.status.busy": "2023-04-01T08:02:31.649568Z",
     "iopub.status.idle": "2023-04-01T08:02:31.667585Z",
     "shell.execute_reply": "2023-04-01T08:02:31.666734Z",
     "shell.execute_reply.started": "2023-04-01T08:02:31.650011Z"
    }
   },
   "outputs": [],
   "source": [
    "X = df_encoded[['smoker_yes', 'age', 'region_northeast', 'children', 'sex_female']]\n",
    "\n",
    "vif_data = pd.DataFrame()\n",
    "vif_data[\"features\"] = X.columns\n",
    "\n",
    "vif_data[\"VIF\"] = [variance_inflation_factor(X.values, i)\n",
    "                   for i in range(len(X.columns))]\n",
    "\n",
    "print(vif_data)"
   ]
  },
  {
   "cell_type": "markdown",
   "metadata": {},
   "source": [
    "Looking at the VIF values, our model does not exhibit any multicollinearity. Now, we can trust the model coefficients. "
   ]
  },
  {
   "cell_type": "code",
   "execution_count": null,
   "metadata": {
    "execution": {
     "iopub.execute_input": "2023-04-01T08:02:31.669722Z",
     "iopub.status.busy": "2023-04-01T08:02:31.669087Z",
     "iopub.status.idle": "2023-04-01T08:02:31.67968Z",
     "shell.execute_reply": "2023-04-01T08:02:31.678527Z",
     "shell.execute_reply.started": "2023-04-01T08:02:31.669684Z"
    }
   },
   "outputs": [],
   "source": [
    "import statsmodels.api as sm\n",
    "X = sm.add_constant(df_encoded[['age','smoker_yes','region_northeast','children','sex_female']])\n",
    "Y = df_encoded['charges']"
   ]
  },
  {
   "cell_type": "code",
   "execution_count": null,
   "metadata": {
    "execution": {
     "iopub.execute_input": "2023-04-01T08:02:31.682263Z",
     "iopub.status.busy": "2023-04-01T08:02:31.681526Z",
     "iopub.status.idle": "2023-04-01T08:02:31.689764Z",
     "shell.execute_reply": "2023-04-01T08:02:31.688797Z",
     "shell.execute_reply.started": "2023-04-01T08:02:31.68222Z"
    }
   },
   "outputs": [],
   "source": [
    "x_train,x_test,y_train,y_test = train_test_split(X,Y,test_size=0.3,random_state=100)"
   ]
  },
  {
   "cell_type": "code",
   "execution_count": null,
   "metadata": {
    "execution": {
     "iopub.execute_input": "2023-04-01T08:02:31.692466Z",
     "iopub.status.busy": "2023-04-01T08:02:31.691653Z",
     "iopub.status.idle": "2023-04-01T08:02:31.733795Z",
     "shell.execute_reply": "2023-04-01T08:02:31.732288Z",
     "shell.execute_reply.started": "2023-04-01T08:02:31.692425Z"
    }
   },
   "outputs": [],
   "source": [
    "df_encoded_model1 = sm.OLS(y_train,x_train).fit()\n",
    "df_encoded_model1.summary2()"
   ]
  },
  {
   "cell_type": "markdown",
   "metadata": {},
   "source": [
    "Since the P values for region_northeast and sex_female are not-significant, let’s drop these terms to build the final model."
   ]
  },
  {
   "cell_type": "code",
   "execution_count": null,
   "metadata": {
    "execution": {
     "iopub.execute_input": "2023-04-01T08:02:31.735525Z",
     "iopub.status.busy": "2023-04-01T08:02:31.735213Z",
     "iopub.status.idle": "2023-04-01T08:02:31.775349Z",
     "shell.execute_reply": "2023-04-01T08:02:31.77397Z",
     "shell.execute_reply.started": "2023-04-01T08:02:31.735498Z"
    }
   },
   "outputs": [],
   "source": [
    "significant_variables = ['smoker_yes', 'age', 'children']\n",
    "x_train = x_train[significant_variables] \n",
    "x_test = x_test[significant_variables]\n",
    "df_encoded_model2 = sm.OLS(y_train, x_train).fit() \n",
    "df_encoded_model2.summary2() "
   ]
  },
  {
   "cell_type": "code",
   "execution_count": null,
   "metadata": {
    "execution": {
     "iopub.execute_input": "2023-04-01T08:02:31.777324Z",
     "iopub.status.busy": "2023-04-01T08:02:31.777012Z",
     "iopub.status.idle": "2023-04-01T08:02:31.782713Z",
     "shell.execute_reply": "2023-04-01T08:02:31.781312Z",
     "shell.execute_reply.started": "2023-04-01T08:02:31.777298Z"
    }
   },
   "outputs": [],
   "source": [
    "mlr_pred = df_encoded_model2.predict(x_test)"
   ]
  },
  {
   "cell_type": "code",
   "execution_count": null,
   "metadata": {
    "execution": {
     "iopub.execute_input": "2023-04-01T08:02:31.784949Z",
     "iopub.status.busy": "2023-04-01T08:02:31.784514Z",
     "iopub.status.idle": "2023-04-01T08:02:31.79703Z",
     "shell.execute_reply": "2023-04-01T08:02:31.795583Z",
     "shell.execute_reply.started": "2023-04-01T08:02:31.784905Z"
    }
   },
   "outputs": [],
   "source": [
    "mse = mean_squared_error(y_test,mlr_pred)\n",
    "rmse = np.sqrt(mean_squared_error(y_test,mlr_pred))\n",
    "r2 = np.abs(r2_score(y_test,mlr_pred))\n",
    "\n",
    "print('MSE:',mse)\n",
    "print('RMSE:',rmse)\n",
    "print('R square:',r2)"
   ]
  },
  {
   "cell_type": "markdown",
   "metadata": {},
   "source": [
    "Assumptions:\n",
    "1. There must be a linear relationship between the outcome variable and the independent variables.  Scatterplots can show whether there is a linear or curvilinear relationship."
   ]
  },
  {
   "cell_type": "code",
   "execution_count": null,
   "metadata": {
    "execution": {
     "iopub.execute_input": "2023-04-01T08:02:31.798519Z",
     "iopub.status.busy": "2023-04-01T08:02:31.798187Z",
     "iopub.status.idle": "2023-04-01T08:02:31.863924Z",
     "shell.execute_reply": "2023-04-01T08:02:31.862673Z",
     "shell.execute_reply.started": "2023-04-01T08:02:31.798488Z"
    }
   },
   "outputs": [],
   "source": [
    "fig = px.scatter_3d(df_encoded, x='age', y='children', z='charges', color='smoker_yes')\n",
    "fig.update_traces(marker_size=5, marker_opacity=0.5)\n",
    "fig.show()"
   ]
  },
  {
   "cell_type": "markdown",
   "metadata": {},
   "source": [
    "2. Multivariate Normality: Multiple regression assumes that the residuals are normally distributed."
   ]
  },
  {
   "cell_type": "code",
   "execution_count": null,
   "metadata": {
    "execution": {
     "iopub.execute_input": "2023-04-01T08:02:31.866511Z",
     "iopub.status.busy": "2023-04-01T08:02:31.866012Z",
     "iopub.status.idle": "2023-04-01T08:02:31.872757Z",
     "shell.execute_reply": "2023-04-01T08:02:31.87119Z",
     "shell.execute_reply.started": "2023-04-01T08:02:31.866465Z"
    }
   },
   "outputs": [],
   "source": [
    "residual = y_test - mlr_pred"
   ]
  },
  {
   "cell_type": "code",
   "execution_count": null,
   "metadata": {
    "execution": {
     "iopub.execute_input": "2023-04-01T08:02:31.874415Z",
     "iopub.status.busy": "2023-04-01T08:02:31.874055Z",
     "iopub.status.idle": "2023-04-01T08:02:31.901307Z",
     "shell.execute_reply": "2023-04-01T08:02:31.900244Z",
     "shell.execute_reply.started": "2023-04-01T08:02:31.874386Z"
    }
   },
   "outputs": [],
   "source": [
    "fig = ff.create_distplot(hist_data=[residual.tolist()], group_labels=['residual'], bin_size=[50])\n",
    "fig.show()"
   ]
  },
  {
   "cell_type": "markdown",
   "metadata": {},
   "source": [
    "3. No Multicollinearity: Multiple regression assumes that the independent variables are not highly correlated with each other.  This assumption is tested using Variance Inflation Factor (VIF) values, which we have already done."
   ]
  }
 ],
 "metadata": {
  "kernelspec": {
   "display_name": "Python 3 (ipykernel)",
   "language": "python",
   "name": "python3"
  },
  "language_info": {
   "codemirror_mode": {
    "name": "ipython",
    "version": 3
   },
   "file_extension": ".py",
   "mimetype": "text/x-python",
   "name": "python",
   "nbconvert_exporter": "python",
   "pygments_lexer": "ipython3",
   "version": "3.9.12"
  }
 },
 "nbformat": 4,
 "nbformat_minor": 4
}
